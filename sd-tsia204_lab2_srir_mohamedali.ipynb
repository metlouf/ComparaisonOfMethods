{
 "cells": [
  {
   "cell_type": "markdown",
   "metadata": {},
   "source": [
    "# Projet SD-TSIA204"
   ]
  },
  {
   "cell_type": "markdown",
   "metadata": {},
   "source": [
    "## Imports"
   ]
  },
  {
   "cell_type": "code",
   "execution_count": 167,
   "metadata": {},
   "outputs": [
    {
     "name": "stdout",
     "output_type": "stream",
     "text": [
      "sd-tsia204_lab2_srir_mohamedali.ipynb\n"
     ]
    }
   ],
   "source": [
    "# Change here using YOUR own first and last names\n",
    "fn1 = \"mohamedali\"\n",
    "ln1 = \"srir\"\n",
    "filename = \"_\".join(map(lambda s: s.strip().lower(),\n",
    "                        [\"SD-TSIA204_lab2\", ln1, fn1])) + \".ipynb\"\n",
    "\n",
    "print(filename)\n"
   ]
  },
  {
   "cell_type": "code",
   "execution_count": 168,
   "metadata": {},
   "outputs": [],
   "source": [
    "import numpy as np\n",
    "import pandas as pd\n",
    "import scipy\n",
    "import matplotlib.pyplot as plt\n",
    "from sklearn.model_selection import train_test_split\n",
    "from sklearn.preprocessing import StandardScaler\n",
    "from sklearn import linear_model\n",
    "from sklearn.metrics import r2_score, mean_squared_error\n",
    "from sklearn.feature_selection import SequentialFeatureSelector\n",
    "from random import randint\n"
   ]
  },
  {
   "cell_type": "markdown",
   "metadata": {},
   "source": [
    "## Question 1"
   ]
  },
  {
   "cell_type": "markdown",
   "metadata": {},
   "source": [
    "### Part a"
   ]
  },
  {
   "cell_type": "code",
   "execution_count": 169,
   "metadata": {},
   "outputs": [],
   "source": [
    "np.random.seed(0)\n"
   ]
  },
  {
   "cell_type": "markdown",
   "metadata": {},
   "source": [
    "### Part b"
   ]
  },
  {
   "cell_type": "code",
   "execution_count": 170,
   "metadata": {},
   "outputs": [],
   "source": [
    "data = pd.read_csv(\"meatspec.csv\")\n",
    "ndata = np.array(data)\n",
    "\n",
    "X = ndata[:, :-1]\n",
    "Y = ndata[:, -1]\n",
    "Y = Y.reshape(X.shape[0], 1)\n"
   ]
  },
  {
   "cell_type": "markdown",
   "metadata": {},
   "source": [
    "Means :"
   ]
  },
  {
   "cell_type": "code",
   "execution_count": 171,
   "metadata": {},
   "outputs": [
    {
     "data": {
      "text/plain": [
       "array([2.80856088, 2.81113716, 2.81372679, 2.81636312, 2.81909763,\n",
       "       2.82198298, 2.82506419, 2.82837512, 2.83194307, 2.83581344,\n",
       "       2.8399573 , 2.84439047, 2.84915172, 2.85428842, 2.85984386,\n",
       "       2.86584409, 2.87229107, 2.87924437, 2.88672837, 2.89469135,\n",
       "       2.90298558, 2.91135828, 2.919562  , 2.92745442, 2.93505944,\n",
       "       2.94255842, 2.95027526, 2.9585833 , 2.96775809, 2.97788112,\n",
       "       2.98877242, 3.00007121, 3.0114614 , 3.02291856, 3.03482623,\n",
       "       3.04781409, 3.06252312, 3.07882953, 3.09621135, 3.11387935,\n",
       "       3.13089121, 3.14640921, 3.16001433, 3.17194837, 3.18318972,\n",
       "       3.1952726 , 3.20996851, 3.22932363, 3.25436014, 3.28580605,\n",
       "       3.32381698, 3.36757651, 3.41494884, 3.46249181, 3.50620688,\n",
       "       3.54277837, 3.57062833, 3.59025949, 3.60348949, 3.61221693,\n",
       "       3.61798516, 3.62169028, 3.62364665, 3.62383633, 3.62213609,\n",
       "       3.61843847, 3.61275763, 3.60520479, 3.59597526, 3.58524688,\n",
       "       3.57317507, 3.55989567, 3.54553744, 3.53020753, 3.51399033,\n",
       "       3.4969806 , 3.47936493, 3.46137935, 3.44321609, 3.42490586,\n",
       "       3.40640619, 3.38760949, 3.36839865, 3.34862474, 3.32812321,\n",
       "       3.30685577, 3.28497647, 3.26285177, 3.24091814, 3.21948181,\n",
       "       3.19862716, 3.17826186, 3.15825419, 3.13853405, 3.11910447,\n",
       "       3.09997056, 3.08106986, 3.06228981, 3.04354753, 3.0248947 ])"
      ]
     },
     "execution_count": 171,
     "metadata": {},
     "output_type": "execute_result"
    }
   ],
   "source": [
    "Xmean = X.mean(axis=0)\n",
    "Xmean\n"
   ]
  },
  {
   "cell_type": "code",
   "execution_count": 172,
   "metadata": {},
   "outputs": [
    {
     "data": {
      "text/plain": [
       "array([18.14232558])"
      ]
     },
     "execution_count": 172,
     "metadata": {},
     "output_type": "execute_result"
    }
   ],
   "source": [
    "Ymean = Y.mean(axis=0)\n",
    "Ymean\n"
   ]
  },
  {
   "cell_type": "markdown",
   "metadata": {},
   "source": [
    "Standard deviation"
   ]
  },
  {
   "cell_type": "code",
   "execution_count": 173,
   "metadata": {},
   "outputs": [
    {
     "data": {
      "text/plain": [
       "array([0.40983682, 0.41238972, 0.41493726, 0.41749102, 0.4200601 ,\n",
       "       0.42264909, 0.4252529 , 0.42786756, 0.43050507, 0.43318362,\n",
       "       0.43588923, 0.43862949, 0.44141616, 0.44426664, 0.44719531,\n",
       "       0.45020667, 0.45329831, 0.45648092, 0.45977021, 0.46319139,\n",
       "       0.46670778, 0.47025775, 0.47375878, 0.47714658, 0.48041988,\n",
       "       0.48364542, 0.48693688, 0.49048411, 0.49441004, 0.49878081,\n",
       "       0.50351916, 0.50844873, 0.51335192, 0.51806839, 0.52260459,\n",
       "       0.52709895, 0.53163437, 0.5361325 , 0.54029243, 0.54368386,\n",
       "       0.54579716, 0.54621291, 0.54479584, 0.54178668, 0.53775448,\n",
       "       0.53344636, 0.52957913, 0.52667001, 0.52487777, 0.52419852,\n",
       "       0.52458189, 0.52592012, 0.52802595, 0.53060441, 0.53332218,\n",
       "       0.53586217, 0.53799342, 0.53961433, 0.54084325, 0.54172504,\n",
       "       0.54243339, 0.54299596, 0.54349644, 0.543908  , 0.54422874,\n",
       "       0.54441634, 0.54450073, 0.54447553, 0.54441914, 0.54432928,\n",
       "       0.54419787, 0.54403906, 0.54389804, 0.54377646, 0.54361815,\n",
       "       0.54338103, 0.54318017, 0.54302258, 0.54300182, 0.54305843,\n",
       "       0.54321361, 0.5434088 , 0.54359905, 0.54371877, 0.54365612,\n",
       "       0.54337222, 0.54285846, 0.54222326, 0.54162046, 0.541165  ,\n",
       "       0.54088408, 0.5406953 , 0.54051442, 0.54025856, 0.53987492,\n",
       "       0.53930429, 0.53847376, 0.53733168, 0.53585728, 0.53410784])"
      ]
     },
     "execution_count": 173,
     "metadata": {},
     "output_type": "execute_result"
    }
   ],
   "source": [
    "Xstd = X.std(axis=0)\n",
    "Xstd\n"
   ]
  },
  {
   "cell_type": "code",
   "execution_count": 174,
   "metadata": {},
   "outputs": [
    {
     "data": {
      "text/plain": [
       "12.710633679921688"
      ]
     },
     "execution_count": 174,
     "metadata": {},
     "output_type": "execute_result"
    }
   ],
   "source": [
    "Ystd = Y.std()\n",
    "Ystd\n"
   ]
  },
  {
   "cell_type": "markdown",
   "metadata": {},
   "source": [
    "- The data is not centered, not normalized and not standarized"
   ]
  },
  {
   "cell_type": "markdown",
   "metadata": {},
   "source": [
    "### Part c"
   ]
  },
  {
   "cell_type": "code",
   "execution_count": 175,
   "metadata": {},
   "outputs": [],
   "source": [
    "scalerX = StandardScaler()\n",
    "scalerY = StandardScaler()\n",
    "\n",
    "\n",
    "X_train, X_test, Y_train, Y_test = train_test_split(X, Y, test_size=0.25)\n",
    "\n",
    "X_train_stand = scalerX.fit_transform(X_train)\n",
    "Y_train_stand = scalerY.fit_transform(Y_train)\n",
    "\n",
    "X_test_stand = scalerX.transform(X_test)\n",
    "Y_test_stand = scalerY.transform(Y_test)\n"
   ]
  },
  {
   "cell_type": "markdown",
   "metadata": {},
   "source": [
    "### Part d"
   ]
  },
  {
   "cell_type": "code",
   "execution_count": 176,
   "metadata": {},
   "outputs": [
    {
     "data": {
      "text/plain": [
       "0.9600547777969841"
      ]
     },
     "execution_count": 176,
     "metadata": {},
     "output_type": "execute_result"
    }
   ],
   "source": [
    "ols = linear_model.LinearRegression(fit_intercept=False)\n",
    "ols.fit(X_train_stand, Y_train_stand)\n",
    "\n",
    "Y_computed_stand = ols.predict(X_test_stand)\n",
    "\n",
    "r2_score(Y_test_stand, Y_computed_stand)\n"
   ]
  },
  {
   "cell_type": "markdown",
   "metadata": {},
   "source": [
    "We don't need to fit the intercept because the data is centered"
   ]
  },
  {
   "cell_type": "markdown",
   "metadata": {},
   "source": [
    "### Part e"
   ]
  },
  {
   "cell_type": "code",
   "execution_count": 177,
   "metadata": {},
   "outputs": [
    {
     "data": {
      "text/html": [
       "<div>\n",
       "<style scoped>\n",
       "    .dataframe tbody tr th:only-of-type {\n",
       "        vertical-align: middle;\n",
       "    }\n",
       "\n",
       "    .dataframe tbody tr th {\n",
       "        vertical-align: top;\n",
       "    }\n",
       "\n",
       "    .dataframe thead th {\n",
       "        text-align: right;\n",
       "    }\n",
       "</style>\n",
       "<table border=\"1\" class=\"dataframe\">\n",
       "  <thead>\n",
       "    <tr style=\"text-align: right;\">\n",
       "      <th></th>\n",
       "      <th>Models</th>\n",
       "      <th>R2</th>\n",
       "    </tr>\n",
       "  </thead>\n",
       "  <tbody>\n",
       "    <tr>\n",
       "      <th>0</th>\n",
       "      <td>OLS</td>\n",
       "      <td>0.960055</td>\n",
       "    </tr>\n",
       "  </tbody>\n",
       "</table>\n",
       "</div>"
      ],
      "text/plain": [
       "  Models        R2\n",
       "0    OLS  0.960055"
      ]
     },
     "execution_count": 177,
     "metadata": {},
     "output_type": "execute_result"
    }
   ],
   "source": [
    "df_coef = pd.DataFrame({'Models': [\"OLS\"], 'R2': [0.9600547777969841]})\n",
    "df_coef\n"
   ]
  },
  {
   "cell_type": "markdown",
   "metadata": {},
   "source": [
    "## Question 2\n",
    "\n",
    "This code is comming from the pseudo code in the Lecture notes"
   ]
  },
  {
   "cell_type": "code",
   "execution_count": 178,
   "metadata": {},
   "outputs": [],
   "source": [
    "n, p = X_train_stand.shape\n",
    "G = (X_train_stand.T @ X_train_stand)/n\n",
    "sig = (np.sum((Y_train_stand - X_train_stand @ ols.coef_.T)**2)/(n-p-1))**0.5\n",
    "\n",
    "T = np.array([(ols.coef_[0][i])/(sig * (G[i, i]**0.5)) for i in range(100)])\n",
    "\n",
    "\n",
    "def T(Y, X, k):\n",
    "    Xk = X[:, k]\n",
    "    Xk = Xk.reshape(Y.shape)\n",
    "    n = Xk.shape[0]\n",
    "\n",
    "    ols = linear_model.LinearRegression(fit_intercept=False)\n",
    "    ols.fit(Xk, Y)\n",
    "\n",
    "    theta = ols.coef_\n",
    "\n",
    "    G = (Xk.T @ Xk)/n\n",
    "    sigma = np.sum((Y-Xk*theta)**2)/(n-2)\n",
    "\n",
    "    T = theta / ((G[0, 0]**0.5)*sigma)\n",
    "\n",
    "    return T[0], Xk, theta[0], 2*(1 - scipy.stats.norm.cdf(T*(n**0.5))[0])\n",
    "\n",
    "\n",
    "r = Y_train_stand\n",
    "S = []\n",
    "A = [i for i in range(X_train_stand.shape[1])]\n",
    "pvalues = [] # list storing the p-values\n",
    "\n",
    "while (len(A) != 0):\n",
    "\n",
    "    V = []\n",
    "\n",
    "    for k in A:\n",
    "        a = T(r, X_train_stand, k)[0]\n",
    "        V.append(a)\n",
    "\n",
    "    V = np.array(V)\n",
    "    k = A[np.argmax(abs(V))]\n",
    "\n",
    "    A.remove(k)\n",
    "    S.append(k)\n",
    "\n",
    "    pvalues.append(T(r, X_train_stand, k)[-1])\n",
    "\n",
    "    r = r - T(r, X_train_stand, k)[1]*T(r, X_train_stand, k)[2]\n"
   ]
  },
  {
   "cell_type": "code",
   "execution_count": 179,
   "metadata": {},
   "outputs": [
    {
     "data": {
      "text/plain": [
       "[40, 39, 41, 38, 42, 37, 36, 97, 43, 35, 96, 98]"
      ]
     },
     "execution_count": 179,
     "metadata": {},
     "output_type": "execute_result"
    }
   ],
   "source": [
    "pvalues = np.array(pvalues)\n",
    "\n",
    "selected_columns = []\n",
    "for k in range(len(S)):\n",
    "    if pvalues[k] < 0.05:\n",
    "        selected_columns.append(S[k])\n",
    "\n",
    "selected_columns # list storing the parameters\n"
   ]
  },
  {
   "cell_type": "markdown",
   "metadata": {},
   "source": [
    "## Question 3"
   ]
  },
  {
   "cell_type": "markdown",
   "metadata": {},
   "source": [
    "### Part a"
   ]
  },
  {
   "cell_type": "code",
   "execution_count": 180,
   "metadata": {},
   "outputs": [
    {
     "data": {
      "text/plain": [
       "0.9441689023606026"
      ]
     },
     "execution_count": 180,
     "metadata": {},
     "output_type": "execute_result"
    }
   ],
   "source": [
    "# X_restricted contains only the selected parameters\n",
    "X_restricted_train = np.zeros((X_train.shape[0], len(selected_columns)))\n",
    "X_restricted_test = np.zeros((X_test.shape[0], len(selected_columns)))\n",
    "for i in range(len(selected_columns)):\n",
    "    X_restricted_train[:, i] = X_train[:, selected_columns[i]]\n",
    "    X_restricted_test[:, i] = X_test[:, selected_columns[i]]\n",
    "\n",
    "scalerR = StandardScaler()\n",
    "X_restricted_train_stand = scalerR.fit_transform(X_restricted_train)\n",
    "\n",
    "ols_R = linear_model.LinearRegression(fit_intercept=False)\n",
    "ols_R.fit(X_restricted_train_stand, Y_train_stand)\n",
    "\n",
    "X_restricted_test_stand = scalerR.transform(X_restricted_test)\n",
    "Y_computed_stand = ols_R.predict(X_restricted_test_stand)\n",
    "\n",
    "r2_score(Y_test_stand, Y_computed_stand)\n"
   ]
  },
  {
   "cell_type": "markdown",
   "metadata": {},
   "source": [
    "### Part b"
   ]
  },
  {
   "cell_type": "code",
   "execution_count": 181,
   "metadata": {},
   "outputs": [
    {
     "name": "stderr",
     "output_type": "stream",
     "text": [
      "/tmp/ipykernel_5994/1947709524.py:3: FutureWarning: The frame.append method is deprecated and will be removed from pandas in a future version. Use pandas.concat instead.\n",
      "  df_coef = df_coef.append(df)\n"
     ]
    },
    {
     "data": {
      "text/html": [
       "<div>\n",
       "<style scoped>\n",
       "    .dataframe tbody tr th:only-of-type {\n",
       "        vertical-align: middle;\n",
       "    }\n",
       "\n",
       "    .dataframe tbody tr th {\n",
       "        vertical-align: top;\n",
       "    }\n",
       "\n",
       "    .dataframe thead th {\n",
       "        text-align: right;\n",
       "    }\n",
       "</style>\n",
       "<table border=\"1\" class=\"dataframe\">\n",
       "  <thead>\n",
       "    <tr style=\"text-align: right;\">\n",
       "      <th></th>\n",
       "      <th>Models</th>\n",
       "      <th>R2</th>\n",
       "    </tr>\n",
       "  </thead>\n",
       "  <tbody>\n",
       "    <tr>\n",
       "      <th>0</th>\n",
       "      <td>OLS</td>\n",
       "      <td>0.960055</td>\n",
       "    </tr>\n",
       "    <tr>\n",
       "      <th>0</th>\n",
       "      <td>OLS with forward variable selection (ols_R)</td>\n",
       "      <td>0.944169</td>\n",
       "    </tr>\n",
       "  </tbody>\n",
       "</table>\n",
       "</div>"
      ],
      "text/plain": [
       "                                        Models        R2\n",
       "0                                          OLS  0.960055\n",
       "0  OLS with forward variable selection (ols_R)  0.944169"
      ]
     },
     "execution_count": 181,
     "metadata": {},
     "output_type": "execute_result"
    }
   ],
   "source": [
    "df = pd.DataFrame({'Models': [\n",
    "                  \"OLS with forward variable selection (ols_R)\"], 'R2': [0.9441689023606026]})\n",
    "df_coef = df_coef.append(df)\n",
    "df_coef\n"
   ]
  },
  {
   "cell_type": "markdown",
   "metadata": {},
   "source": [
    "## Question 4"
   ]
  },
  {
   "cell_type": "code",
   "execution_count": 182,
   "metadata": {},
   "outputs": [],
   "source": [
    "Seq = SequentialFeatureSelector(ols, n_features_to_select=12)\n"
   ]
  },
  {
   "cell_type": "markdown",
   "metadata": {},
   "source": [
    "Selected variables :"
   ]
  },
  {
   "cell_type": "code",
   "execution_count": 183,
   "metadata": {},
   "outputs": [
    {
     "data": {
      "text/plain": [
       "array(['x0', 'x3', 'x19', 'x21', 'x39', 'x40', 'x46', 'x47', 'x48', 'x57',\n",
       "       'x74', 'x99'], dtype=object)"
      ]
     },
     "execution_count": 183,
     "metadata": {},
     "output_type": "execute_result"
    }
   ],
   "source": [
    "Seq.fit(X_train_stand, Y_train_stand).get_feature_names_out()\n"
   ]
  },
  {
   "cell_type": "code",
   "execution_count": 184,
   "metadata": {},
   "outputs": [
    {
     "data": {
      "text/plain": [
       "(54, 12)"
      ]
     },
     "execution_count": 184,
     "metadata": {},
     "output_type": "execute_result"
    }
   ],
   "source": [
    "X_train_seq = Seq.transform(X_train_stand)\n",
    "X_train_seq.shape\n",
    "\n",
    "X_test_seq = Seq.transform(X_test_stand)\n",
    "X_test_seq.shape\n"
   ]
  },
  {
   "cell_type": "code",
   "execution_count": 185,
   "metadata": {},
   "outputs": [
    {
     "data": {
      "text/plain": [
       "0.9572204408872212"
      ]
     },
     "execution_count": 185,
     "metadata": {},
     "output_type": "execute_result"
    }
   ],
   "source": [
    "scalerSeq = StandardScaler()\n",
    "X_seq_train_stand = scalerSeq.fit_transform(X_train_seq)\n",
    "\n",
    "ols_Seq = linear_model.LinearRegression(fit_intercept=False)\n",
    "ols_Seq.fit(X_seq_train_stand, Y_train_stand)\n",
    "\n",
    "X_test_seq_stand = scalerSeq.transform(X_test_seq)\n",
    "Y_computed_stand = ols_Seq.predict(X_test_seq_stand)\n",
    "\n",
    "r2_score(Y_test_stand, Y_computed_stand)\n"
   ]
  },
  {
   "cell_type": "code",
   "execution_count": 186,
   "metadata": {},
   "outputs": [
    {
     "name": "stderr",
     "output_type": "stream",
     "text": [
      "/tmp/ipykernel_5994/2386894353.py:3: FutureWarning: The frame.append method is deprecated and will be removed from pandas in a future version. Use pandas.concat instead.\n",
      "  df_coef = df_coef.append(df)\n"
     ]
    },
    {
     "data": {
      "text/html": [
       "<div>\n",
       "<style scoped>\n",
       "    .dataframe tbody tr th:only-of-type {\n",
       "        vertical-align: middle;\n",
       "    }\n",
       "\n",
       "    .dataframe tbody tr th {\n",
       "        vertical-align: top;\n",
       "    }\n",
       "\n",
       "    .dataframe thead th {\n",
       "        text-align: right;\n",
       "    }\n",
       "</style>\n",
       "<table border=\"1\" class=\"dataframe\">\n",
       "  <thead>\n",
       "    <tr style=\"text-align: right;\">\n",
       "      <th></th>\n",
       "      <th>Models</th>\n",
       "      <th>R2</th>\n",
       "    </tr>\n",
       "  </thead>\n",
       "  <tbody>\n",
       "    <tr>\n",
       "      <th>0</th>\n",
       "      <td>OLS</td>\n",
       "      <td>0.960055</td>\n",
       "    </tr>\n",
       "    <tr>\n",
       "      <th>0</th>\n",
       "      <td>OLS with forward variable selection (ols_R)</td>\n",
       "      <td>0.944169</td>\n",
       "    </tr>\n",
       "    <tr>\n",
       "      <th>0</th>\n",
       "      <td>OLS with SequentialFeatureSelector (ols_Seq)</td>\n",
       "      <td>0.957220</td>\n",
       "    </tr>\n",
       "  </tbody>\n",
       "</table>\n",
       "</div>"
      ],
      "text/plain": [
       "                                         Models        R2\n",
       "0                                           OLS  0.960055\n",
       "0   OLS with forward variable selection (ols_R)  0.944169\n",
       "0  OLS with SequentialFeatureSelector (ols_Seq)  0.957220"
      ]
     },
     "execution_count": 186,
     "metadata": {},
     "output_type": "execute_result"
    }
   ],
   "source": [
    "df = pd.DataFrame({'Models': [\n",
    "                  \"OLS with SequentialFeatureSelector (ols_Seq)\"], 'R2': [0.9572204408872212]})\n",
    "df_coef = df_coef.append(df)\n",
    "df_coef\n"
   ]
  },
  {
   "cell_type": "markdown",
   "metadata": {},
   "source": [
    "## Question 5 : RIDGE"
   ]
  },
  {
   "cell_type": "markdown",
   "metadata": {},
   "source": [
    "### Part a"
   ]
  },
  {
   "cell_type": "code",
   "execution_count": 187,
   "metadata": {},
   "outputs": [
    {
     "data": {
      "image/png": "[encoded data removed]",
      "text/plain": [
       "<Figure size 432x288 with 1 Axes>"
      ]
     },
     "metadata": {
      "needs_background": "light"
     },
     "output_type": "display_data"
    }
   ],
   "source": [
    "n, p = X_train_stand.shape\n",
    "\n",
    "step = 10000\n",
    "alpha_set = np.logspace(-10, 2, step)\n",
    "theta_ev = np.zeros((p, step))\n",
    "\n",
    "for i in range(len(alpha_set)):\n",
    "    theta_ridge = (np.linalg.inv(X_train_stand.T  @ X_train_stand + n *\n",
    "                   alpha_set[i] * np.identity(p)) @ X_train_stand.T @ Y_train_stand).reshape(100,)\n",
    "    theta_ev[:, i] = theta_ridge\n",
    "\n",
    "\n",
    "for param in range(p):\n",
    "    plt.plot(alpha_set, theta_ev[param, :])\n",
    "    plt.xscale('log', base=10)\n",
    "\n",
    "plt.title(\"The coefficients change with α\")\n",
    "plt.show()\n"
   ]
  },
  {
   "cell_type": "markdown",
   "metadata": {},
   "source": [
    "### Part b"
   ]
  },
  {
   "cell_type": "code",
   "execution_count": 188,
   "metadata": {},
   "outputs": [
    {
     "data": {
      "image/png": "[encoded data removed]",
      "text/plain": [
       "<Figure size 432x288 with 1 Axes>"
      ]
     },
     "metadata": {
      "needs_background": "light"
     },
     "output_type": "display_data"
    },
    {
     "data": {
      "image/png": "[encoded data removed]",
      "text/plain": [
       "<Figure size 432x288 with 1 Axes>"
      ]
     },
     "metadata": {
      "needs_background": "light"
     },
     "output_type": "display_data"
    }
   ],
   "source": [
    "Y_train_ridge_ev = X_train_stand @ theta_ev\n",
    "MSE_Train = []\n",
    "\n",
    "for i in range(len(alpha_set)):\n",
    "    MSE_Train.append(mean_squared_error(Y_train_stand, Y_train_ridge_ev[:, i]))\n",
    "\n",
    "alpha_Train_min = alpha_set[np.argmin(MSE_Train)]\n",
    "\n",
    "plt.plot(alpha_set, MSE_Train)\n",
    "plt.xscale('log', base=10)\n",
    "plt.title(\"MSE of Training Set\")\n",
    "plt.plot(alpha_set[np.argmin(MSE_Train)], min(MSE_Train), marker=\"o\",\n",
    "         markersize=7, markeredgecolor=\"red\", markerfacecolor=\"green\") # Pointing the minimum\n",
    "plt.show()\n",
    "\n",
    "Y_test_ridge_ev = X_test_stand @ theta_ev\n",
    "MSE_Test = []\n",
    "\n",
    "for i in range(len(alpha_set)):\n",
    "    MSE_Test.append(mean_squared_error(Y_test_stand, Y_test_ridge_ev[:, i]))\n",
    "\n",
    "alpha_Test_min = alpha_set[np.argmin(MSE_Test)]\n",
    "\n",
    "plt.plot(alpha_set, MSE_Test)\n",
    "plt.xscale('log', base=10)\n",
    "plt.title(\"MSE of Test Set\")\n",
    "plt.plot(alpha_set[np.argmin(MSE_Test)], min(MSE_Test), marker=\"o\",\n",
    "         markersize=7, markeredgecolor=\"red\", markerfacecolor=\"green\") # Pointing the minimum\n",
    "plt.show()\n"
   ]
  },
  {
   "cell_type": "markdown",
   "metadata": {},
   "source": [
    "### Part c"
   ]
  },
  {
   "cell_type": "code",
   "execution_count": 189,
   "metadata": {},
   "outputs": [
    {
     "data": {
      "text/plain": [
       "0.9755078109830306"
      ]
     },
     "execution_count": 189,
     "metadata": {},
     "output_type": "execute_result"
    }
   ],
   "source": [
    "r2_score(Y_test_stand, Y_test_ridge_ev[:, np.argmin(MSE_Train)])\n"
   ]
  },
  {
   "cell_type": "code",
   "execution_count": 190,
   "metadata": {},
   "outputs": [
    {
     "name": "stderr",
     "output_type": "stream",
     "text": [
      "/tmp/ipykernel_5994/2681134593.py:2: FutureWarning: The frame.append method is deprecated and will be removed from pandas in a future version. Use pandas.concat instead.\n",
      "  df_coef = df_coef.append(df)\n"
     ]
    },
    {
     "data": {
      "text/html": [
       "<div>\n",
       "<style scoped>\n",
       "    .dataframe tbody tr th:only-of-type {\n",
       "        vertical-align: middle;\n",
       "    }\n",
       "\n",
       "    .dataframe tbody tr th {\n",
       "        vertical-align: top;\n",
       "    }\n",
       "\n",
       "    .dataframe thead th {\n",
       "        text-align: right;\n",
       "    }\n",
       "</style>\n",
       "<table border=\"1\" class=\"dataframe\">\n",
       "  <thead>\n",
       "    <tr style=\"text-align: right;\">\n",
       "      <th></th>\n",
       "      <th>Models</th>\n",
       "      <th>R2</th>\n",
       "    </tr>\n",
       "  </thead>\n",
       "  <tbody>\n",
       "    <tr>\n",
       "      <th>0</th>\n",
       "      <td>OLS</td>\n",
       "      <td>0.960055</td>\n",
       "    </tr>\n",
       "    <tr>\n",
       "      <th>0</th>\n",
       "      <td>OLS with forward variable selection (ols_R)</td>\n",
       "      <td>0.944169</td>\n",
       "    </tr>\n",
       "    <tr>\n",
       "      <th>0</th>\n",
       "      <td>OLS with SequentialFeatureSelector (ols_Seq)</td>\n",
       "      <td>0.957220</td>\n",
       "    </tr>\n",
       "    <tr>\n",
       "      <th>0</th>\n",
       "      <td>Ridge</td>\n",
       "      <td>0.975508</td>\n",
       "    </tr>\n",
       "  </tbody>\n",
       "</table>\n",
       "</div>"
      ],
      "text/plain": [
       "                                         Models        R2\n",
       "0                                           OLS  0.960055\n",
       "0   OLS with forward variable selection (ols_R)  0.944169\n",
       "0  OLS with SequentialFeatureSelector (ols_Seq)  0.957220\n",
       "0                                         Ridge  0.975508"
      ]
     },
     "execution_count": 190,
     "metadata": {},
     "output_type": "execute_result"
    }
   ],
   "source": [
    "df = pd.DataFrame({'Models': [\"Ridge\"], 'R2': [0.9755078109830306]})\n",
    "df_coef = df_coef.append(df)\n",
    "df_coef\n"
   ]
  },
  {
   "cell_type": "markdown",
   "metadata": {},
   "source": [
    "## Question 6 : LASSO"
   ]
  },
  {
   "cell_type": "markdown",
   "metadata": {},
   "source": [
    "### Part a "
   ]
  },
  {
   "cell_type": "markdown",
   "metadata": {},
   "source": [
    "Iteration for minimization increase precision of the decent\n",
    "Tol sghir maytnegligeach"
   ]
  },
  {
   "cell_type": "markdown",
   "metadata": {},
   "source": [
    "### Part b"
   ]
  },
  {
   "cell_type": "code",
   "execution_count": 191,
   "metadata": {},
   "outputs": [
    {
     "ename": "KeyboardInterrupt",
     "evalue": "",
     "output_type": "error",
     "traceback": [
      "\u001b[0;31m---------------------------------------------------------------------------\u001b[0m",
      "\u001b[0;31mKeyboardInterrupt\u001b[0m                         Traceback (most recent call last)",
      "\u001b[0;32m/tmp/ipykernel_5994/2076149551.py\u001b[0m in \u001b[0;36m<module>\u001b[0;34m\u001b[0m\n\u001b[1;32m      8\u001b[0m     lasso = linear_model.Lasso(\n\u001b[1;32m      9\u001b[0m         alpha_set[i], tol=0.04, max_iter=20000, fit_intercept=False)\n\u001b[0;32m---> 10\u001b[0;31m     \u001b[0mlasso\u001b[0m\u001b[0;34m.\u001b[0m\u001b[0mfit\u001b[0m\u001b[0;34m(\u001b[0m\u001b[0mX_train_stand\u001b[0m\u001b[0;34m,\u001b[0m \u001b[0mY_train_stand\u001b[0m\u001b[0;34m)\u001b[0m\u001b[0;34m\u001b[0m\u001b[0;34m\u001b[0m\u001b[0m\n\u001b[0m\u001b[1;32m     11\u001b[0m \u001b[0;34m\u001b[0m\u001b[0m\n\u001b[1;32m     12\u001b[0m     \u001b[0mnumber_diff_null\u001b[0m\u001b[0;34m.\u001b[0m\u001b[0mappend\u001b[0m\u001b[0;34m(\u001b[0m\u001b[0mnp\u001b[0m\u001b[0;34m.\u001b[0m\u001b[0msum\u001b[0m\u001b[0;34m(\u001b[0m\u001b[0mlasso\u001b[0m\u001b[0;34m.\u001b[0m\u001b[0mcoef_\u001b[0m \u001b[0;34m>\u001b[0m \u001b[0;36m0\u001b[0m\u001b[0;34m)\u001b[0m\u001b[0;34m)\u001b[0m\u001b[0;34m\u001b[0m\u001b[0;34m\u001b[0m\u001b[0m\n",
      "\u001b[0;32m~/.local/lib/python3.10/site-packages/sklearn/linear_model/_coordinate_descent.py\u001b[0m in \u001b[0;36mfit\u001b[0;34m(self, X, y, sample_weight, check_input)\u001b[0m\n\u001b[1;32m   1052\u001b[0m             \u001b[0;32melse\u001b[0m\u001b[0;34m:\u001b[0m\u001b[0;34m\u001b[0m\u001b[0;34m\u001b[0m\u001b[0m\n\u001b[1;32m   1053\u001b[0m                 \u001b[0mthis_Xy\u001b[0m \u001b[0;34m=\u001b[0m \u001b[0;32mNone\u001b[0m\u001b[0;34m\u001b[0m\u001b[0;34m\u001b[0m\u001b[0m\n\u001b[0;32m-> 1054\u001b[0;31m             _, this_coef, this_dual_gap, this_iter = self.path(\n\u001b[0m\u001b[1;32m   1055\u001b[0m                 \u001b[0mX\u001b[0m\u001b[0;34m,\u001b[0m\u001b[0;34m\u001b[0m\u001b[0;34m\u001b[0m\u001b[0m\n\u001b[1;32m   1056\u001b[0m                 \u001b[0my\u001b[0m\u001b[0;34m[\u001b[0m\u001b[0;34m:\u001b[0m\u001b[0;34m,\u001b[0m \u001b[0mk\u001b[0m\u001b[0;34m]\u001b[0m\u001b[0;34m,\u001b[0m\u001b[0;34m\u001b[0m\u001b[0;34m\u001b[0m\u001b[0m\n",
      "\u001b[0;32m~/.local/lib/python3.10/site-packages/sklearn/linear_model/_coordinate_descent.py\u001b[0m in \u001b[0;36menet_path\u001b[0;34m(X, y, l1_ratio, eps, n_alphas, alphas, precompute, Xy, copy_X, coef_init, verbose, return_n_iter, positive, check_input, **params)\u001b[0m\n\u001b[1;32m    646\u001b[0m             )\n\u001b[1;32m    647\u001b[0m         \u001b[0;32melif\u001b[0m \u001b[0mprecompute\u001b[0m \u001b[0;32mis\u001b[0m \u001b[0;32mFalse\u001b[0m\u001b[0;34m:\u001b[0m\u001b[0;34m\u001b[0m\u001b[0;34m\u001b[0m\u001b[0m\n\u001b[0;32m--> 648\u001b[0;31m             model = cd_fast.enet_coordinate_descent(\n\u001b[0m\u001b[1;32m    649\u001b[0m                 \u001b[0mcoef_\u001b[0m\u001b[0;34m,\u001b[0m \u001b[0ml1_reg\u001b[0m\u001b[0;34m,\u001b[0m \u001b[0ml2_reg\u001b[0m\u001b[0;34m,\u001b[0m \u001b[0mX\u001b[0m\u001b[0;34m,\u001b[0m \u001b[0my\u001b[0m\u001b[0;34m,\u001b[0m \u001b[0mmax_iter\u001b[0m\u001b[0;34m,\u001b[0m \u001b[0mtol\u001b[0m\u001b[0;34m,\u001b[0m \u001b[0mrng\u001b[0m\u001b[0;34m,\u001b[0m \u001b[0mrandom\u001b[0m\u001b[0;34m,\u001b[0m \u001b[0mpositive\u001b[0m\u001b[0;34m\u001b[0m\u001b[0;34m\u001b[0m\u001b[0m\n\u001b[1;32m    650\u001b[0m             )\n",
      "\u001b[0;31mKeyboardInterrupt\u001b[0m: "
     ]
    }
   ],
   "source": [
    "step = 1000\n",
    "alpha_set = np.logspace(-5, -2, step)\n",
    "number_diff_null = []\n",
    "MSE_Train = []\n",
    "MSE_Test = []\n",
    "for i in range(len(alpha_set)):\n",
    "\n",
    "    lasso = linear_model.Lasso(\n",
    "        alpha_set[i], tol=0.04, max_iter=20000, fit_intercept=False)\n",
    "    lasso.fit(X_train_stand, Y_train_stand)\n",
    "\n",
    "    number_diff_null.append(np.sum(lasso.coef_ > 0))\n",
    "    MSE_Train.append(mean_squared_error(\n",
    "        Y_train_stand, lasso.predict(X_train_stand)))\n",
    "    MSE_Test.append(mean_squared_error(\n",
    "        Y_test_stand, lasso.predict(X_test_stand)))\n",
    "\n",
    "alpha_Train_min = alpha_set[np.argmin(MSE_Train)]\n",
    "alpha_Test_min = alpha_set[np.argmin(MSE_Test)]\n"
   ]
  },
  {
   "cell_type": "markdown",
   "metadata": {},
   "source": [
    "### Part c "
   ]
  },
  {
   "cell_type": "code",
   "execution_count": null,
   "metadata": {},
   "outputs": [
    {
     "data": {
      "text/plain": [
       "Text(0.5, 1.0, 'Number of coefficients that are different from 0 for each value of α')"
      ]
     },
     "execution_count": 143,
     "metadata": {},
     "output_type": "execute_result"
    },
    {
     "data": {
      "image/png": "[encoded data removed]",
      "text/plain": [
       "<Figure size 432x288 with 1 Axes>"
      ]
     },
     "metadata": {
      "needs_background": "light"
     },
     "output_type": "display_data"
    }
   ],
   "source": [
    "plt.plot(alpha_set, number_diff_null)\n",
    "plt.xscale('log', base=10)\n",
    "plt.title(\"Number of coefficients that are different from 0 for each value of α\")\n"
   ]
  },
  {
   "cell_type": "code",
   "execution_count": null,
   "metadata": {},
   "outputs": [
    {
     "data": {
      "text/plain": [
       "Text(0.5, 1.0, 'MSE of Test Set')"
      ]
     },
     "execution_count": 144,
     "metadata": {},
     "output_type": "execute_result"
    },
    {
     "data": {
      "image/png": "[encoded data removed]",
      "text/plain": [
       "<Figure size 432x288 with 1 Axes>"
      ]
     },
     "metadata": {
      "needs_background": "light"
     },
     "output_type": "display_data"
    }
   ],
   "source": [
    "plt.plot(alpha_set, MSE_Train)\n",
    "plt.xscale('log', base=10)\n",
    "plt.plot(alpha_set[np.argmin(MSE_Train)], min(MSE_Train), marker=\"o\",\n",
    "         markersize=7, markeredgecolor=\"red\", markerfacecolor=\"green\")\n",
    "plt.title(\"MSE of Test Set\")\n"
   ]
  },
  {
   "cell_type": "code",
   "execution_count": null,
   "metadata": {},
   "outputs": [
    {
     "data": {
      "text/plain": [
       "Text(0.5, 1.0, 'MSE of Test Set')"
      ]
     },
     "execution_count": 145,
     "metadata": {},
     "output_type": "execute_result"
    },
    {
     "data": {
      "image/png": "[encoded data removed]",
      "text/plain": [
       "<Figure size 432x288 with 1 Axes>"
      ]
     },
     "metadata": {
      "needs_background": "light"
     },
     "output_type": "display_data"
    }
   ],
   "source": [
    "plt.plot(alpha_set, MSE_Test)\n",
    "plt.xscale('log', base=10)\n",
    "plt.plot(alpha_set[np.argmin(MSE_Test)], min(MSE_Test), marker=\"o\",\n",
    "         markersize=7, markeredgecolor=\"red\", markerfacecolor=\"green\")\n",
    "plt.title(\"MSE of Test Set\")\n"
   ]
  },
  {
   "cell_type": "markdown",
   "metadata": {},
   "source": [
    "### Part d"
   ]
  },
  {
   "cell_type": "code",
   "execution_count": null,
   "metadata": {},
   "outputs": [
    {
     "data": {
      "text/plain": [
       "0.9315078114665992"
      ]
     },
     "execution_count": 146,
     "metadata": {},
     "output_type": "execute_result"
    }
   ],
   "source": [
    "lasso = linear_model.Lasso(\n",
    "    alpha_set[np.argmin(MSE_Train)], tol=0.04, max_iter=20000, fit_intercept=False)\n",
    "lasso.fit(X_train_stand, Y_train_stand)\n",
    "\n",
    "r2_score(Y_test_stand, lasso.predict(X_test_stand))\n"
   ]
  },
  {
   "cell_type": "code",
   "execution_count": null,
   "metadata": {},
   "outputs": [
    {
     "name": "stderr",
     "output_type": "stream",
     "text": [
      "/tmp/ipykernel_5994/1030145691.py:2: FutureWarning: The frame.append method is deprecated and will be removed from pandas in a future version. Use pandas.concat instead.\n",
      "  df_coef = df_coef.append(df)\n"
     ]
    },
    {
     "data": {
      "text/html": [
       "<div>\n",
       "<style scoped>\n",
       "    .dataframe tbody tr th:only-of-type {\n",
       "        vertical-align: middle;\n",
       "    }\n",
       "\n",
       "    .dataframe tbody tr th {\n",
       "        vertical-align: top;\n",
       "    }\n",
       "\n",
       "    .dataframe thead th {\n",
       "        text-align: right;\n",
       "    }\n",
       "</style>\n",
       "<table border=\"1\" class=\"dataframe\">\n",
       "  <thead>\n",
       "    <tr style=\"text-align: right;\">\n",
       "      <th></th>\n",
       "      <th>Models</th>\n",
       "      <th>R2</th>\n",
       "    </tr>\n",
       "  </thead>\n",
       "  <tbody>\n",
       "    <tr>\n",
       "      <th>0</th>\n",
       "      <td>OLS</td>\n",
       "      <td>0.960055</td>\n",
       "    </tr>\n",
       "    <tr>\n",
       "      <th>0</th>\n",
       "      <td>OLS with forward variable selection (ols_R)</td>\n",
       "      <td>0.944169</td>\n",
       "    </tr>\n",
       "    <tr>\n",
       "      <th>0</th>\n",
       "      <td>OLS with SequentialFeatureSelector (ols_Seq)</td>\n",
       "      <td>0.957220</td>\n",
       "    </tr>\n",
       "    <tr>\n",
       "      <th>0</th>\n",
       "      <td>Ridge</td>\n",
       "      <td>0.975508</td>\n",
       "    </tr>\n",
       "    <tr>\n",
       "      <th>0</th>\n",
       "      <td>Lasso</td>\n",
       "      <td>0.931508</td>\n",
       "    </tr>\n",
       "  </tbody>\n",
       "</table>\n",
       "</div>"
      ],
      "text/plain": [
       "                                         Models        R2\n",
       "0                                           OLS  0.960055\n",
       "0   OLS with forward variable selection (ols_R)  0.944169\n",
       "0  OLS with SequentialFeatureSelector (ols_Seq)  0.957220\n",
       "0                                         Ridge  0.975508\n",
       "0                                         Lasso  0.931508"
      ]
     },
     "execution_count": 147,
     "metadata": {},
     "output_type": "execute_result"
    }
   ],
   "source": [
    "df = pd.DataFrame({'Models': [\"Lasso\"], 'R2': [0.9315078114665992]})\n",
    "df_coef = df_coef.append(df)\n",
    "df_coef\n"
   ]
  },
  {
   "cell_type": "markdown",
   "metadata": {},
   "source": [
    "## Question 7 : Cross Validation"
   ]
  },
  {
   "cell_type": "code",
   "execution_count": null,
   "metadata": {},
   "outputs": [],
   "source": [
    "def Cross_validation(X, Y, model, alpha_set, K=5,MAX_ITER=10000):\n",
    "\n",
    "    MSE = np.zeros((K, len(alpha_set)))\n",
    "\n",
    "    j = 0\n",
    "    for alpha in alpha_set:\n",
    "\n",
    "        lm = model(alpha, fit_intercept=False, max_iter=MAX_ITER)\n",
    "        block_size = X.shape[0]//K\n",
    "\n",
    "        MSE_current = []\n",
    "\n",
    "        for i in range(K):\n",
    "\n",
    "            X_current_test = X[i*block_size:(i+1)*block_size, :]\n",
    "            Y_current_test = Y[i*block_size:(i+1)*block_size, :]\n",
    "\n",
    "            X_current_train = np.zeros((X.shape[0]-block_size, X.shape[1]))\n",
    "            Y_current_train = np.zeros((Y.shape[0]-block_size, Y.shape[1]))\n",
    "\n",
    "            X_current_train[:i*block_size, :] = X[:i*block_size, :]\n",
    "            Y_current_train[:i*block_size, :] = Y[:i*block_size, :]\n",
    "\n",
    "            if i != K-1:\n",
    "                X_current_train[i*block_size:, :] = X[(i+1)*block_size, :]\n",
    "                Y_current_train[i*block_size:, :] = Y[(i+1)*block_size, :]\n",
    "\n",
    "            scalerX = StandardScaler()\n",
    "            scalerY = StandardScaler()\n",
    "\n",
    "            X_current_train_stand = scalerX.fit_transform(X_current_train)\n",
    "            Y_current_train_stand = scalerY.fit_transform(Y_current_train)\n",
    "\n",
    "            lm.fit(X_current_train_stand, Y_current_train_stand)\n",
    "\n",
    "            X_current_test_stand = scalerX.transform(X_current_test)\n",
    "            Y_current_test_stand = scalerY.transform(Y_current_test)\n",
    "            Y_computed_stand = lm.predict(X_current_test_stand)\n",
    "\n",
    "            MSE_current.append(mean_squared_error(\n",
    "                Y_current_test_stand, Y_computed_stand))\n",
    "\n",
    "        MSE[:, j] = MSE_current\n",
    "        j += 1\n",
    "\n",
    "    return MSE\n"
   ]
  },
  {
   "cell_type": "markdown",
   "metadata": {},
   "source": [
    "### CV with ElasticNet"
   ]
  },
  {
   "cell_type": "code",
   "execution_count": null,
   "metadata": {},
   "outputs": [
    {
     "name": "stdout",
     "output_type": "stream",
     "text": [
      "[91.02065133 91.88793371 91.89595066]\n",
      "Best alpha :  0.1\n"
     ]
    }
   ],
   "source": [
    "alphas = [0.1, 1, 10]\n",
    "MSE = Cross_validation(X_train, Y_train, linear_model.ElasticNet, alphas, K=4)\n",
    "alphas[np.argmin(MSE.mean(axis=0))]\n",
    "print(MSE.mean(axis=0))\n",
    "print(\"Best alpha : \", alphas[np.argmin(MSE.mean(axis=0))])\n",
    "\n"
   ]
  },
  {
   "cell_type": "markdown",
   "metadata": {},
   "source": [
    "### CV with Ridge"
   ]
  },
  {
   "cell_type": "code",
   "execution_count": null,
   "metadata": {},
   "outputs": [
    {
     "name": "stdout",
     "output_type": "stream",
     "text": [
      "[91.16963771 91.16771278 91.16646823 91.16536388 91.16602077 91.16394874\n",
      " 91.16258955 91.16215571 91.1626961  91.16001062 91.15867215 91.15767585\n",
      " 91.15674645 91.15558259 91.15513948 91.15460939 91.15361406 91.15296795\n",
      " 91.15156971 91.15101054 91.149877   91.14964757 91.14859684 91.14665893\n",
      " 91.14645007 91.14518226 91.14491244 91.14333298 91.14364707 91.14271009\n",
      " 91.14221776 91.14110231 91.14029716 91.139418   91.13833869 91.13807676\n",
      " 91.13708425 91.13654849 91.13534332 91.13451928 91.13410038 91.13346137\n",
      " 91.13326223 91.13238338 91.13080261 91.13055689 91.1297356  91.12927374\n",
      " 91.12826383 91.1278436  91.12725974 91.12595633 91.12555586 91.12485073\n",
      " 91.12413074 91.12323233 91.12273027 91.12208824 91.12146564 91.12066419\n",
      " 91.11982015 91.11937859 91.11859591 91.11790205 91.11744786 91.11652989\n",
      " 91.11582782 91.11527433 91.11474855 91.11403479 91.11311148 91.11266674\n",
      " 91.11201077 91.11127033 91.11067237 91.11004389 91.10925762 91.10865713\n",
      " 91.10788763 91.10724287 91.10653189 91.10585977 91.10523773 91.10454548\n",
      " 91.10370092 91.10299302 91.10241518 91.1016702  91.10094943 91.10022656\n",
      " 91.09957546 91.09887878 91.09821734 91.09748923 91.09670948 91.09603548\n",
      " 91.09525413 91.09451858 91.09381387 91.09308534 91.09226899 91.09147531\n",
      " 91.09072158 91.08992153 91.08921065 91.08840246 91.08753949 91.0867781\n",
      " 91.08599905 91.08510492 91.08426648 91.08334892 91.08252192 91.0816444\n",
      " 91.08071228 91.07977461 91.07888693 91.07791911 91.07696188 91.07601926\n",
      " 91.07501086 91.07398945 91.07298095 91.07192222 91.07086115 91.06977091\n",
      " 91.0686388  91.0674931  91.06634396 91.06517022 91.0639939  91.06270705\n",
      " 91.06145436 91.06017833 91.05885809 91.05752166 91.05610733 91.05471633\n",
      " 91.05326531 91.05178606 91.05026813 91.0487434  91.04716932 91.04553771\n",
      " 91.04386955 91.0421632  91.04043919 91.03865147 91.03681621 91.0349656\n",
      " 91.03304384 91.03109698 91.0290887  91.02704725 91.02492937 91.02278702\n",
      " 91.02057743 91.01832026 91.01600739 91.01363372 91.01120941 91.00872297\n",
      " 91.00619109 91.00357996 91.00091306 90.99819548 90.99539481 90.99253274\n",
      " 90.98962483 90.98663576 90.98357224 90.98044542 90.97725098 90.97398122\n",
      " 90.97063675 90.96722256 90.96372318 90.96015334 90.95651019 90.95278426\n",
      " 90.9489795  90.94508813 90.94112079 90.93707207 90.93293044 90.92871235\n",
      " 90.92441146 90.92001898 90.91554436 90.91097957 90.9063278  90.90159172\n",
      " 90.89676574 90.8918475  90.88684117 90.88174153 90.87656032 90.87128495\n",
      " 90.86592602 90.86046976 90.85492518 90.84929537 90.84357602 90.83776446\n",
      " 90.83187261 90.82588877 90.81982242 90.81366993 90.8074358  90.80111693\n",
      " 90.79471973 90.78824232 90.78168656 90.77505358 90.76834756 90.76156981\n",
      " 90.75472175 90.74780498 90.74082363 90.73377871 90.72667288 90.71951028\n",
      " 90.71229131 90.7050226  90.69770262 90.69033972 90.68293165 90.67548513\n",
      " 90.66800258 90.66048939 90.65294627 90.64537844 90.63778912 90.63018274\n",
      " 90.62256273 90.61493266 90.60729647 90.59965875 90.5920232  90.58439368\n",
      " 90.57677397 90.56916725 90.56157907 90.55401196 90.54647076 90.5389579\n",
      " 90.53147771 90.52403551 90.51663226 90.50927228 90.50195945 90.49469726\n",
      " 90.4874877  90.48033507 90.47324166 90.46621057 90.45924443 90.45234576\n",
      " 90.44551738 90.43876005 90.43207795 90.4254714  90.41894303 90.41249434\n",
      " 90.40612647 90.39984155 90.39363978 90.38752279 90.3814912  90.37554562\n",
      " 90.36968665 90.36391487 90.3582303  90.35263279 90.34712268 90.34169946\n",
      " 90.3363631  90.3311126  90.32594787 90.3208676  90.31587156 90.31095841\n",
      " 90.30612713 90.30137664 90.29670564 90.29211268 90.28759652 90.28315547\n",
      " 90.27878805 90.27449273 90.27026773 90.26611132 90.26202178 90.25799727\n",
      " 90.25403595 90.25013608 90.24629569 90.24251299 90.2387861  90.23511312\n",
      " 90.23149224 90.22792162 90.22439945 90.22092389 90.21749318 90.21410569\n",
      " 90.21075957 90.20745328 90.20418521 90.20095376 90.19775748 90.19459487\n",
      " 90.19146459 90.18836528 90.18529566 90.18225458 90.17924084 90.17625341\n",
      " 90.17329129 90.1703535  90.1674392  90.1645476  90.16167796 90.15882962\n",
      " 90.15600199 90.15319456 90.15040686 90.1476385  90.14488914 90.14215855\n",
      " 90.13944651 90.13675288 90.13407756 90.13142056 90.12878188 90.1261616\n",
      " 90.12355987 90.12097684 90.11841275 90.11586786 90.11334247 90.11083691\n",
      " 90.10835157 90.10588686 90.1034432  90.10102108 90.09862095 90.09624336\n",
      " 90.0938888  90.09155784 90.08925102 90.08696892 90.0847121  90.08248117\n",
      " 90.08027669 90.07809926 90.07594947 90.0738279  90.07173514 90.06967174\n",
      " 90.06763828 90.06563531 90.06366337 90.06172299 90.05981467 90.05793891\n",
      " 90.05609618 90.05428693 90.0525116  90.0507706  90.04906431 90.04739308\n",
      " 90.04575727 90.04415717 90.04259307 90.04106522 90.03957384 90.03811915\n",
      " 90.0367013  90.03532043 90.03397667 90.03267008 90.03140071 90.03016861\n",
      " 90.02897375 90.0278161  90.02669561 90.02561217 90.02456568 90.02355599\n",
      " 90.02258293 90.0216463  90.02074588 90.01988142 90.01905265 90.01825929\n",
      " 90.01750102 90.0167775  90.01608838 90.01543328 90.01481181 90.01422357\n",
      " 90.01366811 90.01314501 90.0126538  90.01219401 90.01176515 90.01136673\n",
      " 90.01099825 90.01065917 90.01034897 90.01006712 90.00981306 90.00958625\n",
      " 90.00938612 90.00921211 90.00906364 90.00894014 90.00884102 90.00876571\n",
      " 90.00871361 90.00868414 90.0086767  90.0086907  90.00872554 90.00878064\n",
      " 90.0088554  90.00894922 90.00906152 90.0091917  90.00933917 90.00950335\n",
      " 90.00968366 90.00987952 90.01009035 90.01031557 90.01055463 90.01080696\n",
      " 90.01107201 90.01134921 90.01163804 90.01193795 90.01224841 90.0125689\n",
      " 90.0128989  90.0132379  90.01358541 90.01394093 90.01430398 90.01467409\n",
      " 90.0150508  90.01543366 90.01582222 90.01621604 90.01661472 90.01701783\n",
      " 90.01742498 90.01783578 90.01824985 90.01866682 90.01908635 90.01950808\n",
      " 90.01993169 90.02035686 90.02078327 90.02121063 90.02163866 90.02206708\n",
      " 90.02249562 90.02292405 90.0233521  90.02377957 90.02420622 90.02463185\n",
      " 90.02505625 90.02547925 90.02590067 90.02632033 90.02673808 90.02715376\n",
      " 90.02756724 90.02797837 90.02838705 90.02879315 90.02919656 90.02959719\n",
      " 90.02999493 90.0303897  90.03078142 90.03117002 90.03155543 90.03193757\n",
      " 90.03231641 90.03269188 90.03306393 90.03343253 90.03379764 90.03415921\n",
      " 90.03451723 90.03487167 90.03522249 90.03556969 90.03591324 90.03625314\n",
      " 90.03658936 90.03692191 90.03725077 90.03757594 90.03789742 90.0382152\n",
      " 90.0385293  90.03883971 90.03914644 90.03944949 90.03974887 90.04004459\n",
      " 90.04033666 90.04062508 90.04090988 90.04119106 90.04146864 90.04174262\n",
      " 90.04201303 90.04227987 90.04254317 90.04280293 90.04305918 90.04331193\n",
      " 90.04356119 90.04380698 90.04404932 90.04428822 90.0445237  90.04475578\n",
      " 90.04498446 90.04520977 90.04543172 90.04565033 90.04586561 90.04607756\n",
      " 90.04628622 90.04649159 90.04669367 90.04689249 90.04708806 90.04728038\n",
      " 90.04746947 90.04765534 90.04783798 90.04801742 90.04819366 90.0483667\n",
      " 90.04853656 90.04870323 90.04886672 90.04902704 90.04918418 90.04933815\n",
      " 90.04948895 90.04963658 90.04978104 90.04992233 90.05006045 90.0501954\n",
      " 90.05032717 90.05045576 90.05058117 90.05070338 90.05082241 90.05093824\n",
      " 90.05105087 90.05116028 90.05126648 90.05136946 90.05146921 90.05156572\n",
      " 90.05165898 90.05174899 90.05183575 90.05191923 90.05199943 90.05207635\n",
      " 90.05214998 90.0522203  90.05228731 90.052351   90.05241137 90.05246839\n",
      " 90.05252207 90.0525724  90.05261937 90.05266297 90.05270319 90.05274002\n",
      " 90.05277347 90.05280351 90.05283015 90.05285337 90.05287317 90.05288954\n",
      " 90.05290248 90.05291198 90.05291803 90.05292062 90.05291976 90.05291543\n",
      " 90.05290763 90.05289636 90.0528816  90.05286335 90.05284161 90.05281638\n",
      " 90.05278763 90.05275538 90.05271961 90.05268032 90.05263749 90.05259114\n",
      " 90.05254124 90.05248778 90.05243078 90.0523702  90.05230605 90.05223831\n",
      " 90.05216698 90.05209204 90.05201348 90.05193129 90.05184545 90.05175595\n",
      " 90.05166277 90.05156589 90.0514653  90.05136097 90.05125288 90.05114101\n",
      " 90.05102534 90.05090582 90.05078245 90.05065519 90.05052399 90.05038885\n",
      " 90.05024971 90.05010653 90.04995929 90.04980794 90.04965244 90.04949275\n",
      " 90.04932882 90.0491606  90.04898805 90.04881112 90.04862976 90.04844392\n",
      " 90.04825355 90.0480586  90.04785902 90.04765476 90.04744577 90.04723201\n",
      " 90.04701341 90.04678995 90.04656157 90.04632823 90.0460899  90.04584654\n",
      " 90.04559812 90.04534461 90.04508599 90.04482224 90.04455335 90.04427932\n",
      " 90.04400014 90.04371583 90.04342641 90.0431319  90.04283234 90.04252778\n",
      " 90.04221827 90.04190388 90.04158469 90.04126081 90.04093232 90.04059937\n",
      " 90.04026208 90.0399206  90.03957511 90.0392258  90.03887286 90.03851652\n",
      " 90.03815702 90.03779462 90.0374296  90.03706228 90.03669296 90.036322\n",
      " 90.03594977 90.03557666 90.03520309 90.03482949 90.03445634 90.03408412\n",
      " 90.03371335 90.03334458 90.03297836 90.03261529 90.03225599 90.0319011\n",
      " 90.0315513  90.03120728 90.03086976 90.0305395  90.03021726 90.02990385\n",
      " 90.02960008 90.0293068  90.02902488 90.02875521 90.02849871 90.0282563\n",
      " 90.02802894 90.02781759 90.02762326 90.02744694 90.02728965 90.02715242\n",
      " 90.02703631 90.02694236 90.02687163 90.02682521 90.02680416 90.02680958\n",
      " 90.02684253 90.0269041  90.02699538 90.02711745 90.02727137 90.02745822\n",
      " 90.02767905 90.02793491 90.02822684 90.02855587 90.02892299 90.0293292\n",
      " 90.02977548 90.03026277 90.03079202 90.03136414 90.03198001 90.03264051\n",
      " 90.03334648 90.03409875 90.0348981  90.03574531 90.03664113 90.03758628\n",
      " 90.03858146 90.03962735 90.0407246  90.04187384 90.04307569 90.04433074\n",
      " 90.04563955 90.0470027  90.04842072 90.04989414 90.05142348 90.05300925\n",
      " 90.05465195 90.05635208 90.05811013 90.05992659 90.06180196 90.06373674\n",
      " 90.06573144 90.06778656 90.06990263 90.07208019 90.07431978 90.07662197\n",
      " 90.07898735 90.08141652 90.0839101  90.08646875 90.08909312 90.09178393\n",
      " 90.09454188 90.09736771 90.10026221 90.10322615 90.10626035 90.10936566\n",
      " 90.11254294 90.11579307 90.11911695 90.12251549 90.12598964 90.12954034\n",
      " 90.13316854 90.1368752  90.14066128 90.14452775 90.14847556 90.15250565\n",
      " 90.15661896 90.16081639 90.16509884 90.16946717 90.1739222  90.17846471\n",
      " 90.18309546 90.18781511 90.19262432 90.19752366 90.20251362 90.20759465\n",
      " 90.2127671  90.21803124 90.22338726 90.22883525 90.23437521 90.24000704\n",
      " 90.24573052 90.25154533 90.25745105 90.26344713 90.2695329  90.27570758\n",
      " 90.28197027 90.28831995 90.29475545 90.30127552 90.30787875 90.31456364\n",
      " 90.32132854 90.32817171 90.33509128 90.34208526 90.34915158 90.35628803\n",
      " 90.36349232 90.37076207 90.37809481 90.38548796 90.3929389  90.40044491\n",
      " 90.40800322 90.41561101 90.42326539 90.43096346 90.43870225 90.44647879\n",
      " 90.45429009 90.46213314 90.47000493 90.47790247 90.48582277 90.49376287\n",
      " 90.50171985 90.50969081 90.51767291 90.52566336 90.53365942 90.54165843\n",
      " 90.5496578  90.55765502 90.56564765 90.57363337 90.58160994 90.58957521\n",
      " 90.59752714 90.6054638  90.61338338 90.62128417 90.62916459 90.63702316\n",
      " 90.64485853 90.65266947 90.66045487 90.66821375 90.67594524 90.6836486\n",
      " 90.69132321 90.69896856 90.70658427 90.71417006 90.72172578 90.72925138\n",
      " 90.73674693 90.74421258 90.75164861 90.75905538 90.76643334 90.77378305\n",
      " 90.78110513 90.7884003  90.79566935 90.80291313 90.81013258 90.81732866\n",
      " 90.82450244 90.831655   90.83878747 90.84590103 90.8529969  90.86007631\n",
      " 90.86714053 90.87419084 90.88122853 90.8882549  90.89527126 90.9022789\n",
      " 90.90927912 90.91627319 90.92326237 90.93024789 90.93723097 90.94421277\n",
      " 90.95119442 90.95817702 90.96516161 90.97214919 90.97914069 90.986137\n",
      " 90.99313893 91.00014723 91.0071626  91.01418563 91.02121686 91.02825674\n",
      " 91.03530567 91.04236392 91.0494317  91.05650915 91.06359629 91.07069307\n",
      " 91.07779934 91.08491488 91.09203934 91.09917231 91.10631329 91.11346166\n",
      " 91.12061675 91.12777775 91.13494381 91.14211397 91.14928717 91.15646231\n",
      " 91.16363816 91.17081346 91.17798682 91.18515683 91.19232198 91.1994807\n",
      " 91.20663137 91.2137723  91.22090176 91.22801795 91.23511905 91.24220319\n",
      " 91.24926846 91.25631293 91.26333465 91.27033163 91.27730189 91.28424343\n",
      " 91.29115425 91.29803234 91.30487572 91.31168241 91.31845043 91.32517786\n",
      " 91.33186277 91.33850329 91.34509756 91.3516438  91.35814023 91.36458515\n",
      " 91.37097689 91.37731387 91.38359452 91.38981739 91.39598105 91.40208416\n",
      " 91.40812544 91.4141037  91.4200178  91.4258667  91.43164943 91.43736508\n",
      " 91.44301285 91.448592   91.45410187 91.45954189 91.46491158 91.47021051\n",
      " 91.47543835 91.48059485 91.48567983 91.4906932 ]\n",
      "Best alpha :  3.10092663593193e-05\n"
     ]
    }
   ],
   "source": [
    "alphas = np.logspace(-10,3,1000)\n",
    "MSE = Cross_validation(X_train, Y_train, linear_model.Ridge, alphas, K=4)\n",
    "print(MSE.mean(axis=0))\n",
    "print(\"Best alpha : \", alphas[np.argmin(MSE.mean(axis=0))])\n"
   ]
  },
  {
   "cell_type": "code",
   "execution_count": null,
   "metadata": {},
   "outputs": [
    {
     "name": "stdout",
     "output_type": "stream",
     "text": [
      "R2 score with this parameter :  0.9665241156517946\n"
     ]
    }
   ],
   "source": [
    "lm = linear_model.Ridge(alphas[np.argmin(MSE.mean(axis=0))], max_iter=50000)\n",
    "lm.fit(X_train_stand,Y_train_stand)\n",
    "\n",
    "Y_computed = lm.predict(X_test_stand)\n",
    "\n",
    "print(\"R2 score with this parameter : \", r2_score(Y_test_stand,Y_computed))"
   ]
  },
  {
   "cell_type": "markdown",
   "metadata": {},
   "source": [
    "### CV with Lasso"
   ]
  },
  {
   "cell_type": "code",
   "execution_count": null,
   "metadata": {},
   "outputs": [
    {
     "name": "stderr",
     "output_type": "stream",
     "text": [
      "/tmp/ipykernel_5994/2709707329.py:34: UserWarning: With alpha=0, this algorithm does not converge well. You are advised to use the LinearRegression estimator\n",
      "  lm.fit(X_current_train_stand, Y_current_train_stand)\n",
      "/home/metlouf/.local/lib/python3.10/site-packages/sklearn/linear_model/_coordinate_descent.py:648: UserWarning: Coordinate descent with no regularization may lead to unexpected results and is discouraged.\n",
      "  model = cd_fast.enet_coordinate_descent(\n",
      "/tmp/ipykernel_5994/2709707329.py:34: UserWarning: With alpha=0, this algorithm does not converge well. You are advised to use the LinearRegression estimator\n",
      "  lm.fit(X_current_train_stand, Y_current_train_stand)\n",
      "/home/metlouf/.local/lib/python3.10/site-packages/sklearn/linear_model/_coordinate_descent.py:648: UserWarning: Coordinate descent with no regularization may lead to unexpected results and is discouraged.\n",
      "  model = cd_fast.enet_coordinate_descent(\n",
      "/home/metlouf/.local/lib/python3.10/site-packages/sklearn/linear_model/_coordinate_descent.py:648: ConvergenceWarning: Objective did not converge. You might want to increase the number of iterations, check the scale of the features or consider increasing regularisation. Duality gap: 1.924e+00, tolerance: 1.210e-02 Linear regression models with null weight for the l1 regularization term are more efficiently fitted using one of the solvers implemented in sklearn.linear_model.Ridge/RidgeCV instead.\n",
      "  model = cd_fast.enet_coordinate_descent(\n",
      "/tmp/ipykernel_5994/2709707329.py:34: UserWarning: With alpha=0, this algorithm does not converge well. You are advised to use the LinearRegression estimator\n",
      "  lm.fit(X_current_train_stand, Y_current_train_stand)\n",
      "/home/metlouf/.local/lib/python3.10/site-packages/sklearn/linear_model/_coordinate_descent.py:648: UserWarning: Coordinate descent with no regularization may lead to unexpected results and is discouraged.\n",
      "  model = cd_fast.enet_coordinate_descent(\n",
      "/home/metlouf/.local/lib/python3.10/site-packages/sklearn/linear_model/_coordinate_descent.py:648: ConvergenceWarning: Objective did not converge. You might want to increase the number of iterations, check the scale of the features or consider increasing regularisation. Duality gap: 1.172e+00, tolerance: 1.210e-02 Linear regression models with null weight for the l1 regularization term are more efficiently fitted using one of the solvers implemented in sklearn.linear_model.Ridge/RidgeCV instead.\n",
      "  model = cd_fast.enet_coordinate_descent(\n",
      "/tmp/ipykernel_5994/2709707329.py:34: UserWarning: With alpha=0, this algorithm does not converge well. You are advised to use the LinearRegression estimator\n",
      "  lm.fit(X_current_train_stand, Y_current_train_stand)\n",
      "/home/metlouf/.local/lib/python3.10/site-packages/sklearn/linear_model/_coordinate_descent.py:648: UserWarning: Coordinate descent with no regularization may lead to unexpected results and is discouraged.\n",
      "  model = cd_fast.enet_coordinate_descent(\n"
     ]
    },
    {
     "name": "stdout",
     "output_type": "stream",
     "text": [
      "[110.61425611  91.27411749  91.88656219  91.89595066  91.89595066\n",
      "  91.89595066  91.89595066]\n",
      "Best alpha :  0.1\n"
     ]
    },
    {
     "name": "stderr",
     "output_type": "stream",
     "text": [
      "/home/metlouf/.local/lib/python3.10/site-packages/sklearn/linear_model/_coordinate_descent.py:648: ConvergenceWarning: Objective did not converge. You might want to increase the number of iterations, check the scale of the features or consider increasing regularisation. Duality gap: 3.706e+00, tolerance: 1.210e-02 Linear regression models with null weight for the l1 regularization term are more efficiently fitted using one of the solvers implemented in sklearn.linear_model.Ridge/RidgeCV instead.\n",
      "  model = cd_fast.enet_coordinate_descent(\n"
     ]
    }
   ],
   "source": [
    "alphas = [0, 0.1, 0.5, 0.7, 0.9, 0.95, 0.99]\n",
    "MSE = Cross_validation(X_train, Y_train, linear_model.Lasso, alphas, K=4 , MAX_ITER= 10000)\n",
    "alphas[np.argmin(MSE.mean(axis=0))]\n",
    "print(MSE.mean(axis=0))\n",
    "print(\"Best alpha : \", alphas[np.argmin(MSE.mean(axis=0))])\n"
   ]
  },
  {
   "cell_type": "markdown",
   "metadata": {},
   "source": [
    "## Question 8 : Bootstrap\n"
   ]
  },
  {
   "cell_type": "code",
   "execution_count": 196,
   "metadata": {},
   "outputs": [
    {
     "data": {
      "text/plain": [
       "[<matplotlib.lines.Line2D at 0x7f761beecd60>]"
      ]
     },
     "execution_count": 196,
     "metadata": {},
     "output_type": "execute_result"
    },
    {
     "data": {
      "image/png": "[encoded data removed]",
      "text/plain": [
       "<Figure size 432x288 with 1 Axes>"
      ]
     },
     "metadata": {
      "needs_background": "light"
     },
     "output_type": "display_data"
    }
   ],
   "source": [
    "Xb = X\n",
    "Xb_plot = Xb[:,40].reshape(-1,1)\n",
    "\n",
    "regr = linear_model.LinearRegression(fit_intercept=True)\n",
    "\n",
    "regr.fit(Xb_plot, Y)\n",
    "\n",
    "plt.scatter(Xb_plot, Y, color=\"black\",alpha=0.6)\n",
    "plt.plot(Xb_plot, regr.predict(Xb_plot), color=\"blue\", linewidth=1)\n",
    "\n"
   ]
  },
  {
   "cell_type": "code",
   "execution_count": 197,
   "metadata": {},
   "outputs": [
    {
     "data": {
      "image/png": "[encoded data removed]",
      "text/plain": [
       "<Figure size 432x288 with 1 Axes>"
      ]
     },
     "metadata": {
      "needs_background": "light"
     },
     "output_type": "display_data"
    }
   ],
   "source": [
    "B = 50\n",
    "\n",
    "for k in range (B):\n",
    "    \n",
    "    r = randint(0,99)\n",
    "    Xb = X[:,r]\n",
    "    Xb_plot = Xb.reshape(-1,1)\n",
    "    \n",
    "    regr = linear_model.LinearRegression()\n",
    "    regr.fit(Xb_plot, Y)\n",
    "    plt.plot(Xb_plot, regr.predict(Xb_plot),alpha=0.3, linewidth=1)\n",
    "        "
   ]
  },
  {
   "cell_type": "markdown",
   "metadata": {},
   "source": [
    "## Question 9 : PCA\n"
   ]
  },
  {
   "cell_type": "code",
   "execution_count": null,
   "metadata": {},
   "outputs": [],
   "source": [
    "Cov_Matrix = X_train_stand.T @ X_train_stand\n",
    "u,s,vh = np.linalg.svd(Cov_Matrix)"
   ]
  },
  {
   "cell_type": "markdown",
   "metadata": {},
   "source": [
    "### Part a"
   ]
  },
  {
   "cell_type": "code",
   "execution_count": null,
   "metadata": {},
   "outputs": [
    {
     "data": {
      "image/png": "[encoded data removed]",
      "text/plain": [
       "<Figure size 432x288 with 1 Axes>"
      ]
     },
     "metadata": {
      "needs_background": "light"
     },
     "output_type": "display_data"
    }
   ],
   "source": [
    "plt.imshow(Cov_Matrix, cmap='hot', interpolation='nearest')\n",
    "plt.title(\"Heatmap of the covariance matrix\")\n",
    "plt.show()"
   ]
  },
  {
   "cell_type": "markdown",
   "metadata": {},
   "source": [
    "### Part b"
   ]
  },
  {
   "cell_type": "code",
   "execution_count": null,
   "metadata": {},
   "outputs": [],
   "source": [
    "nb_components = 8\n",
    "\n",
    "U = np.zeros((X_train_stand.shape[1],nb_components))\n",
    "for col in range(nb_components) :\n",
    "    U[:,col] = u[:,col]\n",
    "\n",
    "X_train_PCA = X_train_stand @ U\n",
    "X_test_PCA = X_test_stand @ U\n"
   ]
  },
  {
   "cell_type": "markdown",
   "metadata": {},
   "source": [
    "### Part c"
   ]
  },
  {
   "cell_type": "code",
   "execution_count": null,
   "metadata": {},
   "outputs": [
    {
     "name": "stdout",
     "output_type": "stream",
     "text": [
      "The amount of variance explained by the first k :\n",
      "[0.9885912998202931, 0.008007408626647762, 0.0023184096832409564, 0.0009801267233599425, 6.501452942184955e-05, 2.63792983979027e-05, 6.625387513263812e-06, 3.2380604346851834e-06]\n"
     ]
    }
   ],
   "source": [
    "print(\"The amount of variance explained by the first k :\")\n",
    "print([s[i]/sum(s) for i in range(nb_components)])"
   ]
  },
  {
   "cell_type": "markdown",
   "metadata": {},
   "source": [
    "### Part d "
   ]
  },
  {
   "cell_type": "code",
   "execution_count": null,
   "metadata": {},
   "outputs": [
    {
     "data": {
      "image/png": "[encoded data removed]",
      "text/plain": [
       "<Figure size 432x288 with 1 Axes>"
      ]
     },
     "metadata": {
      "needs_background": "light"
     },
     "output_type": "display_data"
    }
   ],
   "source": [
    "x_plot = X_train_PCA[:,0]\n",
    "y_plot = X_train_PCA[:,1]\n",
    "\n",
    "plt.scatter(x_plot,y_plot,alpha=0.6)\n",
    "\n",
    "x_plot = X_test_PCA[:,0]\n",
    "y_plot = X_test_PCA[:,1]\n",
    "\n",
    "plt.scatter(x_plot,y_plot,alpha=0.6)\n",
    "\n",
    "plt.show()\n",
    "\n"
   ]
  },
  {
   "cell_type": "markdown",
   "metadata": {},
   "source": [
    "### Part e"
   ]
  },
  {
   "cell_type": "code",
   "execution_count": null,
   "metadata": {},
   "outputs": [
    {
     "data": {
      "text/plain": [
       "0.9368350990252545"
      ]
     },
     "execution_count": 160,
     "metadata": {},
     "output_type": "execute_result"
    }
   ],
   "source": [
    "ols_pca = linear_model.LinearRegression()\n",
    "ols_pca.fit(X_train_PCA, Y_train_stand)\n",
    "\n",
    "Y_computed = ols_pca.predict(X_test_PCA)\n",
    "\n",
    "r2_score(Y_test_stand, Y_computed)"
   ]
  },
  {
   "cell_type": "markdown",
   "metadata": {},
   "source": [
    "Find the best nb of components :"
   ]
  },
  {
   "cell_type": "code",
   "execution_count": null,
   "metadata": {},
   "outputs": [
    {
     "data": {
      "text/plain": [
       "[<matplotlib.lines.Line2D at 0x7f761ad26d40>]"
      ]
     },
     "execution_count": 161,
     "metadata": {},
     "output_type": "execute_result"
    },
    {
     "data": {
      "image/png": "[encoded data removed]",
      "text/plain": [
       "<Figure size 432x288 with 1 Axes>"
      ]
     },
     "metadata": {
      "needs_background": "light"
     },
     "output_type": "display_data"
    }
   ],
   "source": [
    "X_train_PCA_full = X_train_stand @ u\n",
    "X_test_PCA_full = X_test_stand @ u\n",
    "\n",
    "nb_components = np.arange(2,100)\n",
    "r2s = []\n",
    "\n",
    "for nb in nb_components :\n",
    "    \n",
    "    X_train_PCA = X_train_PCA_full[:,:nb]\n",
    "    X_test_PCA = X_test_PCA_full[:,:nb]\n",
    "\n",
    "    ols_pca = linear_model.LinearRegression()\n",
    "    ols_pca.fit(X_train_PCA, Y_train_stand)\n",
    "\n",
    "    Y_computed = ols_pca.predict(X_test_PCA)\n",
    "\n",
    "    r2s.append(r2_score(Y_test_stand, Y_computed))\n",
    "\n",
    "\n",
    "plt.plot(nb_components,r2s)"
   ]
  },
  {
   "cell_type": "code",
   "execution_count": null,
   "metadata": {},
   "outputs": [
    {
     "name": "stdout",
     "output_type": "stream",
     "text": [
      "Best nb_components is :  84 with a score of :  0.9774596926598692\n"
     ]
    }
   ],
   "source": [
    "print(\"Best nb_components is : \" ,nb_components[np.argmax(r2s)] , \"with a score of : \", max(r2s) )"
   ]
  },
  {
   "cell_type": "code",
   "execution_count": null,
   "metadata": {},
   "outputs": [
    {
     "name": "stderr",
     "output_type": "stream",
     "text": [
      "/tmp/ipykernel_5994/1547314443.py:2: FutureWarning: The frame.append method is deprecated and will be removed from pandas in a future version. Use pandas.concat instead.\n",
      "  df_coef = df_coef.append(df)\n"
     ]
    },
    {
     "data": {
      "text/html": [
       "<div>\n",
       "<style scoped>\n",
       "    .dataframe tbody tr th:only-of-type {\n",
       "        vertical-align: middle;\n",
       "    }\n",
       "\n",
       "    .dataframe tbody tr th {\n",
       "        vertical-align: top;\n",
       "    }\n",
       "\n",
       "    .dataframe thead th {\n",
       "        text-align: right;\n",
       "    }\n",
       "</style>\n",
       "<table border=\"1\" class=\"dataframe\">\n",
       "  <thead>\n",
       "    <tr style=\"text-align: right;\">\n",
       "      <th></th>\n",
       "      <th>Models</th>\n",
       "      <th>R2</th>\n",
       "    </tr>\n",
       "  </thead>\n",
       "  <tbody>\n",
       "    <tr>\n",
       "      <th>0</th>\n",
       "      <td>OLS</td>\n",
       "      <td>0.960055</td>\n",
       "    </tr>\n",
       "    <tr>\n",
       "      <th>0</th>\n",
       "      <td>OLS with forward variable selection (ols_R)</td>\n",
       "      <td>0.944169</td>\n",
       "    </tr>\n",
       "    <tr>\n",
       "      <th>0</th>\n",
       "      <td>OLS with SequentialFeatureSelector (ols_Seq)</td>\n",
       "      <td>0.957220</td>\n",
       "    </tr>\n",
       "    <tr>\n",
       "      <th>0</th>\n",
       "      <td>Ridge</td>\n",
       "      <td>0.975508</td>\n",
       "    </tr>\n",
       "    <tr>\n",
       "      <th>0</th>\n",
       "      <td>Lasso</td>\n",
       "      <td>0.931508</td>\n",
       "    </tr>\n",
       "    <tr>\n",
       "      <th>0</th>\n",
       "      <td>Ols after PCA</td>\n",
       "      <td>0.977460</td>\n",
       "    </tr>\n",
       "  </tbody>\n",
       "</table>\n",
       "</div>"
      ],
      "text/plain": [
       "                                         Models        R2\n",
       "0                                           OLS  0.960055\n",
       "0   OLS with forward variable selection (ols_R)  0.944169\n",
       "0  OLS with SequentialFeatureSelector (ols_Seq)  0.957220\n",
       "0                                         Ridge  0.975508\n",
       "0                                         Lasso  0.931508\n",
       "0                                 Ols after PCA  0.977460"
      ]
     },
     "execution_count": 163,
     "metadata": {},
     "output_type": "execute_result"
    }
   ],
   "source": [
    "df = pd.DataFrame({'Models': [\"Ols after PCA\"], 'R2': [0.9774596926598692]})\n",
    "df_coef = df_coef.append(df)\n",
    "df_coef"
   ]
  },
  {
   "cell_type": "markdown",
   "metadata": {},
   "source": [
    "## Question 10 :"
   ]
  },
  {
   "cell_type": "markdown",
   "metadata": {},
   "source": [
    "We see that the two best models are Ridge and OLS after PCA, we can see the importance of considering specificities of the data (regularization for Ridge and base changement for PCA). We can also see that feature selection is interesting with way less calculation, it gives good results, which could be important if we need speed (real time predictions in embedded systems for example)."
   ]
  }
 ],
 "metadata": {
  "kernelspec": {
   "display_name": "Python 3 (ipykernel)",
   "language": "python",
   "name": "python3"
  },
  "language_info": {
   "codemirror_mode": {
    "name": "ipython",
    "version": 3
   },
   "file_extension": ".py",
   "mimetype": "text/x-python",
   "name": "python",
   "nbconvert_exporter": "python",
   "pygments_lexer": "ipython3",
   "version": "3.10.6"
  },
  "vscode": {
   "interpreter": {
    "hash": "916dbcbb3f70747c44a77c7bcd40155683ae19c65e1c03b4aa3499c5328201f1"
   }
  }
 },
 "nbformat": 4,
 "nbformat_minor": 2
}
